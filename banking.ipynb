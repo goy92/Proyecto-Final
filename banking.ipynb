{
 "cells": [
  {
   "cell_type": "code",
   "execution_count": 1,
   "metadata": {},
   "outputs": [],
   "source": [
    "import requests\n",
    "import urllib.request\n",
    "import time\n",
    "from bs4 import BeautifulSoup\n",
    "import numpy as np\n",
    "import pandas as pd\n",
    "from pymongo import MongoClient"
   ]
  },
  {
   "cell_type": "code",
   "execution_count": null,
   "metadata": {},
   "outputs": [],
   "source": [
    "cliente = MongoClient('mongodb://localhost:27017/')\n",
    "db = cliente.linkedin"
   ]
  },
  {
   "cell_type": "code",
   "execution_count": null,
   "metadata": {},
   "outputs": [],
   "source": [
    "perfiles = db.linkedin.find({\"industry\": { \"$exists\": \"true\"}},{\"id\":1, \"locality\":1, \"education\":1,\"skills\":1,\"industry\":1, \"experience\":1, \"specilities\":1}).limit(150000)"
   ]
  },
  {
   "cell_type": "code",
   "execution_count": null,
   "metadata": {},
   "outputs": [],
   "source": [
    "banking =data[data['industry'] == \"Banking\"]\n",
    "banking['skills'].fillna(\"No skill\", inplace = True)"
   ]
  },
  {
   "cell_type": "code",
   "execution_count": null,
   "metadata": {},
   "outputs": [],
   "source": [
    "banking_skills = banking['skills']\n",
    "lista_banking_skills = []\n",
    "for e in banking_skills:\n",
    "    if e != \"No Skill\":\n",
    "        lista_banking_skills += e\n",
    "    \n",
    "print(lista_banking_skills)"
   ]
  },
  {
   "cell_type": "code",
   "execution_count": null,
   "metadata": {},
   "outputs": [],
   "source": [
    "freq_bank = nltk.FreqDist(lista_banking_skills)\n",
    "skills_banking = {}\n",
    "for word, frecuency in freq_bank.most_common(50):\n",
    "    skills_banking[word]=frecuency"
   ]
  },
  {
   "cell_type": "code",
   "execution_count": null,
   "metadata": {},
   "outputs": [],
   "source": [
    "skills_banking"
   ]
  }
 ],
 "metadata": {
  "kernelspec": {
   "display_name": "Python 3",
   "language": "python",
   "name": "python3"
  },
  "language_info": {
   "codemirror_mode": {
    "name": "ipython",
    "version": 3
   },
   "file_extension": ".py",
   "mimetype": "text/x-python",
   "name": "python",
   "nbconvert_exporter": "python",
   "pygments_lexer": "ipython3",
   "version": "3.7.3"
  }
 },
 "nbformat": 4,
 "nbformat_minor": 2
}
